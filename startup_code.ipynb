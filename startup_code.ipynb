{
 "cells": [
  {
   "cell_type": "markdown",
   "id": "4ac20780-b69d-4e28-8b0b-3249f98e15ed",
   "metadata": {},
   "source": [
    "# HEADING: Main Title\n",
    "### Note - Info for the title\n",
    "\n",
    "Version  | Date | Author | Notes |\n",
    ":-------:|:----:|:-------|:-----:|\n",
    "0.1 |15 May 2023| Ken Dizon | Leveraging code for Finance/Marekting \n",
    "\n",
    "# Objective: \n",
    "This is a sample notebook aimed as a starting point for most projects\n",
    "\n",
    "**Content**\n",
    "1. Title\n",
    "    * 1.1 Sub-title\n",
    "        * 1.1.1 Mini-title\n",
    "2. Title \n",
    "3. Title "
   ]
  },
  {
   "cell_type": "code",
   "execution_count": null,
   "id": "c99f2abb-f765-46cf-9805-613b9a39b780",
   "metadata": {},
   "outputs": [],
   "source": [
    "# Insert Packages/Libraries"
   ]
  },
  {
   "cell_type": "markdown",
   "id": "b9ca52e3-95c3-4de4-b91b-de0c88bbc36e",
   "metadata": {},
   "source": [
    "`CRISP-DM Methodology`\n",
    "\n",
    "- [1] Business Understanding | [2] Data Understanding | [3] Data Prep \n",
    "- [4] Modeling | [5] Evaluation | [6] Deployment"
   ]
  },
  {
   "cell_type": "markdown",
   "id": "2a20b51c-eb37-4582-b66e-f7e01a142c2e",
   "metadata": {},
   "source": [
    "# [1] Load Data "
   ]
  },
  {
   "cell_type": "code",
   "execution_count": null,
   "id": "c268bffe-20e4-440e-9c1a-e5c89510b18d",
   "metadata": {},
   "outputs": [],
   "source": [
    "# SQL"
   ]
  },
  {
   "cell_type": "code",
   "execution_count": null,
   "id": "c0d345ab-02d3-468c-b3e4-63cdbc9b436e",
   "metadata": {},
   "outputs": [],
   "source": [
    "# Internal CSV "
   ]
  },
  {
   "cell_type": "markdown",
   "id": "eb3ad7d5-2b8f-42fe-bfec-94a43be2f47d",
   "metadata": {},
   "source": [
    "# [2] Data Understanding"
   ]
  },
  {
   "cell_type": "code",
   "execution_count": null,
   "id": "29e6ff8b-7a72-46e0-9a8a-e170cbf8b66c",
   "metadata": {},
   "outputs": [],
   "source": [
    "# Dataframe"
   ]
  },
  {
   "cell_type": "code",
   "execution_count": null,
   "id": "9f053284-5047-4070-992b-0dc5ca2b88f4",
   "metadata": {},
   "outputs": [],
   "source": [
    "# row"
   ]
  },
  {
   "cell_type": "code",
   "execution_count": null,
   "id": "90f0314d-d3bc-436d-8a90-74826e5a92a3",
   "metadata": {},
   "outputs": [],
   "source": [
    "# columns"
   ]
  },
  {
   "cell_type": "code",
   "execution_count": null,
   "id": "9c9dac0b-cade-4f26-9aad-4055741f7e55",
   "metadata": {},
   "outputs": [],
   "source": [
    "# Descriptive Statstics"
   ]
  },
  {
   "cell_type": "markdown",
   "id": "acc847a0-6553-456b-b495-92ab5f7da44a",
   "metadata": {},
   "source": [
    "# [3] Data Preparation"
   ]
  },
  {
   "cell_type": "code",
   "execution_count": null,
   "id": "99a1381c-ee86-4a98-bf72-0aff8272bc90",
   "metadata": {},
   "outputs": [],
   "source": []
  },
  {
   "cell_type": "markdown",
   "id": "24d6e8cb-7518-4de1-9993-5b36cd17f4b6",
   "metadata": {},
   "source": [
    "# [4] Modeling"
   ]
  },
  {
   "cell_type": "code",
   "execution_count": null,
   "id": "0c976f7c-9ecf-4110-a0a0-42f8d1588199",
   "metadata": {},
   "outputs": [],
   "source": []
  },
  {
   "cell_type": "markdown",
   "id": "331114a3-8de1-456c-87f9-950164d4320b",
   "metadata": {},
   "source": [
    "# [5] Evaluation \n",
    "- Use powerpoint to copy images and explain"
   ]
  },
  {
   "cell_type": "code",
   "execution_count": null,
   "id": "b1470330-82d6-4574-833a-432642f48606",
   "metadata": {},
   "outputs": [],
   "source": []
  },
  {
   "cell_type": "markdown",
   "id": "67757574-3da7-42a6-89d5-5ea8d1c503cf",
   "metadata": {},
   "source": [
    "# [6] Deployment"
   ]
  },
  {
   "cell_type": "code",
   "execution_count": null,
   "id": "f1502ae9-8f8b-406e-99d8-ee5b1b463233",
   "metadata": {},
   "outputs": [],
   "source": []
  }
 ],
 "metadata": {
  "kernelspec": {
   "display_name": "Python 3 (ipykernel)",
   "language": "python",
   "name": "python3"
  },
  "language_info": {
   "codemirror_mode": {
    "name": "ipython",
    "version": 3
   },
   "file_extension": ".py",
   "mimetype": "text/x-python",
   "name": "python",
   "nbconvert_exporter": "python",
   "pygments_lexer": "ipython3",
   "version": "3.8.8"
  }
 },
 "nbformat": 4,
 "nbformat_minor": 5
}
